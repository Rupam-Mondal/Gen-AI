{
 "cells": [
  {
   "cell_type": "code",
   "execution_count": 1,
   "metadata": {},
   "outputs": [],
   "source": [
    "#Inheritance and abstraction"
   ]
  },
  {
   "cell_type": "code",
   "execution_count": 2,
   "metadata": {},
   "outputs": [],
   "source": [
    "#When a derived class has only one parent class this is single inheritance"
   ]
  },
  {
   "cell_type": "code",
   "execution_count": 3,
   "metadata": {},
   "outputs": [],
   "source": [
    "class Father:\n",
    "    def Property(self):\n",
    "        print(\"Hello i am father\")"
   ]
  },
  {
   "cell_type": "code",
   "execution_count": 7,
   "metadata": {},
   "outputs": [],
   "source": [
    "class Son(Father):\n",
    "    def job(self):\n",
    "        print(\"I am child\")"
   ]
  },
  {
   "cell_type": "code",
   "execution_count": 8,
   "metadata": {},
   "outputs": [],
   "source": [
    "s = Son()"
   ]
  },
  {
   "cell_type": "code",
   "execution_count": 9,
   "metadata": {},
   "outputs": [
    {
     "name": "stdout",
     "output_type": "stream",
     "text": [
      "Hello i am father\n"
     ]
    }
   ],
   "source": [
    "s.Property()"
   ]
  },
  {
   "cell_type": "code",
   "execution_count": 11,
   "metadata": {},
   "outputs": [
    {
     "name": "stdout",
     "output_type": "stream",
     "text": [
      "I am from fruit\n",
      "I am apple\n"
     ]
    }
   ],
   "source": [
    "class Fruit:\n",
    "    def info(self):\n",
    "        print(\"I am from fruit\")\n",
    "\n",
    "class Apple(Fruit):\n",
    "    def infoApple(self):\n",
    "        print(\"I am apple\")\n",
    "\n",
    "\n",
    "a = Apple()\n",
    "a.info()\n",
    "a.infoApple()\n"
   ]
  },
  {
   "cell_type": "code",
   "execution_count": 12,
   "metadata": {},
   "outputs": [],
   "source": [
    "#method overridding"
   ]
  },
  {
   "cell_type": "code",
   "execution_count": 13,
   "metadata": {},
   "outputs": [],
   "source": [
    "class Fruit:\n",
    "    def info(self):\n",
    "        print(\"I am from fruit\")\n",
    "\n",
    "class Apple(Fruit):\n",
    "    def info(self):\n",
    "        print(\"I modified this function of parent\")"
   ]
  },
  {
   "cell_type": "code",
   "execution_count": 15,
   "metadata": {},
   "outputs": [
    {
     "name": "stdout",
     "output_type": "stream",
     "text": [
      "I modified this function of parent\n",
      "I am from fruit\n"
     ]
    }
   ],
   "source": [
    "a = Apple()\n",
    "a.info()\n",
    "b = Fruit()\n",
    "b.info()"
   ]
  },
  {
   "cell_type": "code",
   "execution_count": 17,
   "metadata": {},
   "outputs": [],
   "source": [
    "#In method overloading child can override the parent property\n",
    "#But parent info will not be modified if we call through\n",
    "#parent object"
   ]
  },
  {
   "cell_type": "code",
   "execution_count": 20,
   "metadata": {},
   "outputs": [],
   "source": [
    "class Parent1:\n",
    "    def method1(self):\n",
    "        print(\"I am from parent 1\")"
   ]
  },
  {
   "cell_type": "code",
   "execution_count": 19,
   "metadata": {},
   "outputs": [],
   "source": [
    "class Parent2:\n",
    "    def method2(self):\n",
    "        print(\"I am from parent 2\")"
   ]
  },
  {
   "cell_type": "code",
   "execution_count": 21,
   "metadata": {},
   "outputs": [],
   "source": [
    "class Child(Parent1,Parent2):\n",
    "    def method3(self):\n",
    "        print(\"I am from parent 3\")"
   ]
  },
  {
   "cell_type": "code",
   "execution_count": 22,
   "metadata": {},
   "outputs": [],
   "source": [
    "c4 = Child()"
   ]
  },
  {
   "cell_type": "code",
   "execution_count": 23,
   "metadata": {},
   "outputs": [
    {
     "name": "stdout",
     "output_type": "stream",
     "text": [
      "I am from parent 2\n"
     ]
    }
   ],
   "source": [
    "c4.method2()"
   ]
  },
  {
   "cell_type": "code",
   "execution_count": 24,
   "metadata": {},
   "outputs": [],
   "source": [
    "#diamond problem>> it occurs when a class inherits from 2 or more than 2 class>> will lead to ambiguity in execution of methods\n",
    "#To remove diamond problem>> python uses method resolution order(MRO) algorithm called c3 linearization\n",
    "#meaning that the class that is inherited first in the derived class, that method will be called>>in this case method 1\n",
    "\n",
    "class ParentClass1:\n",
    "    def method_par(self):\n",
    "        print(\"method 1 of parent class 1\")\n",
    "class ParentClass2:\n",
    "    def method_par(self):\n",
    "        print(\"method2 of parent class 2\")\n",
    "class ChildClass(ParentClass1, ParentClass2):\n",
    "    def method(self):\n",
    "        print(\"method of child class\")"
   ]
  },
  {
   "cell_type": "code",
   "execution_count": 25,
   "metadata": {},
   "outputs": [],
   "source": [
    "#diamond problem\n",
    "class A:\n",
    "    def method(self):\n",
    "        print(\"Method of class A\")\n",
    "class B(A):\n",
    "    def method(self):\n",
    "        print(\"Method of class B\")\n",
    "class C(A):\n",
    "    def method(self):\n",
    "        print(\"Method of class C\")\n",
    "class D(B, C):\n",
    "    pass"
   ]
  },
  {
   "cell_type": "code",
   "execution_count": 26,
   "metadata": {},
   "outputs": [
    {
     "name": "stdout",
     "output_type": "stream",
     "text": [
      "Method of class B\n"
     ]
    }
   ],
   "source": [
    "d = D() \n",
    "d.method()"
   ]
  },
  {
   "cell_type": "code",
   "execution_count": 27,
   "metadata": {},
   "outputs": [],
   "source": [
    "#Abstraction >> concept of hiding complex implementation"
   ]
  },
  {
   "cell_type": "code",
   "execution_count": 28,
   "metadata": {},
   "outputs": [],
   "source": [
    "import abc\n"
   ]
  },
  {
   "cell_type": "code",
   "execution_count": null,
   "metadata": {},
   "outputs": [],
   "source": [
    "#Abstraction>>concept of hiding complex implementation\n",
    "#hiding unneeded details and exposing the required\n",
    "#abstract class can not be instantiated(can not make object) \n",
    "#abstract class should always be subclassed\n",
    "#abstract class  may contain methods that are just declared and not implemented in abstract class itself, subclass are responsible for implementing these abstract methods\n",
    "#if in inherited class a method is not present from abstract class it will not throw error"
   ]
  },
  {
   "cell_type": "code",
   "execution_count": 29,
   "metadata": {},
   "outputs": [],
   "source": [
    "#use case\n",
    "#in any class at pwskills>>data science/ frontend/backend, the following three methods will be common\n",
    "class PwSkills:\n",
    "    \n",
    "    @abc.abstractmethod\n",
    "    def student_details(self):\n",
    "        pass\n",
    "    \n",
    "    @abc.abstractmethod\n",
    "    def student_assignment(self):\n",
    "        pass\n",
    "    \n",
    "    @abc.abstractmethod\n",
    "    def student_marks(self):\n",
    "        pass\n"
   ]
  },
  {
   "cell_type": "code",
   "execution_count": 30,
   "metadata": {},
   "outputs": [],
   "source": [
    "class DataScience(PwSkills):\n",
    "    def student_details(self):\n",
    "        return \"Data Science course details\"\n",
    "    def student_marks(self):\n",
    "        return \"give ds students marks\""
   ]
  },
  {
   "cell_type": "code",
   "execution_count": 31,
   "metadata": {},
   "outputs": [],
   "source": [
    "ds =  DataScience()"
   ]
  },
  {
   "cell_type": "code",
   "execution_count": 32,
   "metadata": {},
   "outputs": [],
   "source": [
    "ds.student_assignment()"
   ]
  },
  {
   "cell_type": "code",
   "execution_count": 33,
   "metadata": {},
   "outputs": [
    {
     "data": {
      "text/plain": [
       "'Data Science course details'"
      ]
     },
     "execution_count": 33,
     "metadata": {},
     "output_type": "execute_result"
    }
   ],
   "source": [
    "ds.student_details()"
   ]
  },
  {
   "cell_type": "code",
   "execution_count": 34,
   "metadata": {},
   "outputs": [],
   "source": [
    "#use case\n",
    "class Shape:\n",
    "    \n",
    "    @abc.abstractmethod\n",
    "    def calculate_area(self):\n",
    "        pass\n",
    "class Rectangle(Shape):\n",
    "    def calculate_area(self):\n",
    "        return \"Area of rectange is len*breadth\"\n",
    "class Circle(Shape):\n",
    "    def calculate_area(self):\n",
    "        return \"area of circle is pi r **2\""
   ]
  },
  {
   "cell_type": "code",
   "execution_count": 35,
   "metadata": {},
   "outputs": [
    {
     "data": {
      "text/plain": [
       "'Area of rectange is len*breadth'"
      ]
     },
     "execution_count": 35,
     "metadata": {},
     "output_type": "execute_result"
    }
   ],
   "source": [
    "rect = Rectangle()\n",
    "rect.calculate_area()"
   ]
  },
  {
   "cell_type": "code",
   "execution_count": 36,
   "metadata": {},
   "outputs": [
    {
     "data": {
      "text/plain": [
       "'area of circle is pi r **2'"
      ]
     },
     "execution_count": 36,
     "metadata": {},
     "output_type": "execute_result"
    }
   ],
   "source": [
    "c = Circle()\n",
    "c.calculate_area()"
   ]
  }
 ],
 "metadata": {
  "kernelspec": {
   "display_name": "Python 3",
   "language": "python",
   "name": "python3"
  },
  "language_info": {
   "codemirror_mode": {
    "name": "ipython",
    "version": 3
   },
   "file_extension": ".py",
   "mimetype": "text/x-python",
   "name": "python",
   "nbconvert_exporter": "python",
   "pygments_lexer": "ipython3",
   "version": "3.12.4"
  }
 },
 "nbformat": 4,
 "nbformat_minor": 2
}
